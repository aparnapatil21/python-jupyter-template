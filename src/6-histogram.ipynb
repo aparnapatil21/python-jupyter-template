{
 "cells": [
  {
   "cell_type": "markdown",
   "metadata": {},
   "source": [
    "### Exercise 6: Histogram Customization"
   ]
  },
  {
   "cell_type": "code",
   "execution_count": null,
   "metadata": {},
   "outputs": [],
   "source": [
    "import matplotlib.pyplot as plt\n",
    "import numpy as np\n",
    "\n",
    "# Sample data\n",
    "x = np.linspace(0, 10, 100)\n",
    "y = np.sin(x)\n",
    "\n",
    "data = [1, 2, 2, 3, 3, 3, 4, 4, 4, 4, 5]\n",
    "categories = ['A', 'B', 'C', 'D']\n",
    "values = [10, 20, 15, 25]\n",
    "\n",
    "scatter_x = np.random.rand(50) * 10\n",
    "scatter_y = np.random.rand(50) * 10\n",
    "\n",
    "pie_sizes = [30, 20, 25, 25]\n",
    "pie_labels = ['Apple', 'Banana', 'Cherry', 'Date']\n",
    "\n",
    "# Create a figure with a 2x2 layout\n",
    "fig, axes = plt.subplots(2, 2, figsize=(10, 8))\n",
    "\n",
    "# Line plot\n",
    "axes[0, 0].plot(x, y, label='sin(x)', color='b')\n",
    "axes[0, 0].set_title('Line Chart')\n",
    "axes[0, 0].legend()\n",
    "\n",
    "# Bar chart\n",
    "axes[0, 1].bar(categories, values, color='g')\n",
    "axes[0, 1].set_title('Bar Chart')\n",
    "\n",
    "# Scatter plot\n",
    "axes[1, 0].scatter(scatter_x, scatter_y, color='r', alpha=0.6)\n",
    "axes[1, 0].set_title('Scatter Plot')\n",
    "\n",
    "# Pie chart\n",
    "axes[1, 1].pie(pie_sizes, labels=pie_labels, autopct='%1.1f%%', startangle=140, colors=['gold', 'lightcoral', 'lightskyblue', 'lightgreen'])\n",
    "axes[1, 1].set_title('Pie Chart')\n",
    "\n",
    "# Adjust layout\n",
    "plt.tight_layout()\n",
    "plt.show()\n",
    "\n",
    "# Create histogram\n",
    "plt.figure(figsize=(6, 4))\n",
    "plt.hist(data, bins=5, color='purple', edgecolor='black')\n",
    "plt.title('Histogram of Data')\n",
    "plt.xlabel('Value')\n",
    "plt.ylabel('Frequency')\n",
    "plt.show()"
   ]
  }
 ],
 "metadata": {
  "language_info": {
   "name": "python"
  }
 },
 "nbformat": 4,
 "nbformat_minor": 2
}
